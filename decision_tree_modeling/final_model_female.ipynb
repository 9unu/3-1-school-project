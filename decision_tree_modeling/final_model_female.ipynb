{
 "cells": [
  {
   "cell_type": "code",
   "execution_count": 1,
   "metadata": {},
   "outputs": [],
   "source": [
    "import pandas as pd\n",
    "file_path = r\"C:\\Users\\USER\\Desktop\\3학년 1학기\\데이터 마이닝 팀플\\여자 데이터\\2008년 여자 데이터.csv\"\n",
    "X = pd.read_csv(file_path)"
   ]
  },
  {
   "cell_type": "code",
   "execution_count": 2,
   "metadata": {},
   "outputs": [],
   "source": [
    "import pandas as pd\n",
    "from sklearn.preprocessing import MinMaxScaler\n",
    "\n",
    "\n",
    "# Min-Max Scaler 객체 생성\n",
    "scaler = MinMaxScaler()\n",
    "\n",
    "# 선택할 컬럼 리스트\n",
    "columns_to_scale = ['N_INTK', 'N_EN', 'N_WATER', 'N_PROT', 'N_FAT', 'N_CHO','HE_ht', 'HE_wt',\n",
    "       'HE_wc' ]\n",
    "\n",
    "# 선택한 컬럼들에 Min-Max Scaling 적용\n",
    "X[columns_to_scale] = scaler.fit_transform(X[columns_to_scale])\n"
   ]
  },
  {
   "cell_type": "code",
   "execution_count": 3,
   "metadata": {},
   "outputs": [],
   "source": [
    "Y = X['fat']\n",
    "X = X.drop(['fat', 'DW_WBT_pFT','sex'], axis=1)"
   ]
  },
  {
   "cell_type": "code",
   "execution_count": 4,
   "metadata": {},
   "outputs": [],
   "source": [
    "from sklearn.model_selection import train_test_split\n",
    "\n",
    "X_train, X_test, Y_train, Y_test = train_test_split(X, Y, test_size=0.3, shuffle=True, stratify=Y, random_state=42)"
   ]
  },
  {
   "cell_type": "code",
   "execution_count": 5,
   "metadata": {},
   "outputs": [
    {
     "name": "stdout",
     "output_type": "stream",
     "text": [
      "Best accuracy: 0.7116666666666667\n",
      "Selected features: Index(['age', 'EC_lgw_2', 'EC_wht_2', 'BD1_11', 'BP8', 'HW_MS_A', 'N_INTK',\n",
      "       'N_EN', 'N_PROT', 'N_FAT', 'N_CHO', 'HE_ht', 'HE_wc', 'DW_WBT_BMD',\n",
      "       'BMI'],\n",
      "      dtype='object')\n",
      "Selected feature count: 15\n"
     ]
    }
   ],
   "source": [
    "from sklearn.feature_selection import RFE\n",
    "from sklearn.tree import DecisionTreeClassifier\n",
    "from sklearn.model_selection import GridSearchCV\n",
    "from sklearn.metrics import accuracy_score\n",
    "\n",
    "model = DecisionTreeClassifier(random_state=42)\n",
    "# 특성개수 15개\n",
    "rfe=RFE(estimator=model, n_features_to_select=15, step=1)\n",
    "X_selected= rfe.fit_transform(X_train,Y_train)\n",
    "\n",
    "#그리드 서치 매개변수 그리드\n",
    "param_grid = {\n",
    "    'criterion': ['gini', 'entropy'],\n",
    "    'max_depth': [None, 3, 5, 7],\n",
    "    'min_samples_split': [2, 5, 10],\n",
    "    'min_samples_leaf': [1, 2, 4]\n",
    "}\n",
    "\n",
    "\n",
    "# 그리드 서치 객체\n",
    "grid_search = GridSearchCV(estimator=model, param_grid=param_grid, cv=5)\n",
    "grid_search.fit(X_selected, Y_train)\n",
    "\n",
    "\n",
    "# 최적의 모델 선택\n",
    "best_model = grid_search.best_estimator_\n",
    "\n",
    "# 테스트 데이터에 대한 예측 값\n",
    "X_test_selected = rfe.transform(X_test)\n",
    "Y_pred = best_model.predict(X_test_selected)\n",
    "\n",
    "# 정확도 평가\n",
    "accuracy = accuracy_score(Y_test, Y_pred)\n",
    "\n",
    "# 선택된 특성\n",
    "selected_feature_names = X.columns[rfe.support_]\n",
    "\n",
    "# 결과 출력\n",
    "print(\"Best accuracy:\", accuracy)\n",
    "print(\"Selected features:\", selected_feature_names)\n",
    "selected_feature_count = len(selected_feature_names)\n",
    "print(\"Selected feature count:\", selected_feature_count)"
   ]
  }
 ],
 "metadata": {
  "kernelspec": {
   "display_name": "base",
   "language": "python",
   "name": "python3"
  },
  "language_info": {
   "codemirror_mode": {
    "name": "ipython",
    "version": 3
   },
   "file_extension": ".py",
   "mimetype": "text/x-python",
   "name": "python",
   "nbconvert_exporter": "python",
   "pygments_lexer": "ipython3",
   "version": "3.9.13"
  },
  "orig_nbformat": 4
 },
 "nbformat": 4,
 "nbformat_minor": 2
}
