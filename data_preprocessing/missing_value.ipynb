{
 "cells": [
  {
   "cell_type": "code",
   "execution_count": 157,
   "metadata": {},
   "outputs": [],
   "source": [
    "import pandas as pd\n",
    "import numpy as np\n",
    "\n",
    "file_path = r\"C:\\Users\\USER\\Desktop\\3학년 1학기\\데이터 마이닝 프로젝트\\남자 원본데이터.csv\"\n",
    "data = pd.read_csv(file_path)"
   ]
  },
  {
   "cell_type": "code",
   "execution_count": 158,
   "metadata": {},
   "outputs": [],
   "source": [
    "X = data.drop(['ID','N_FIBER',\n",
    "       'N_ASH', 'N_CA', 'N_PHOS', 'N_FE', 'N_NA', 'N_K', 'N_VA', 'N_CAROT',\n",
    "       'N_RETIN', 'N_B1', 'N_B2', 'N_NIAC', 'N_VITC','HW_ES_DR', 'HW_MP_A', 'HW_MS_A', 'HW_OC_DR','N_WAT_C'], axis=1)  \n",
    "# 타겟 변수, string타입의 id삭제, 필요없다고 생각되는 비타민..., 여자 columnn삭제"
   ]
  },
  {
   "cell_type": "code",
   "execution_count": 159,
   "metadata": {},
   "outputs": [
    {
     "data": {
      "text/plain": [
       "['N_DIET',\n",
       " 'N_INTK',\n",
       " 'N_EN',\n",
       " 'N_WATER',\n",
       " 'N_PROT',\n",
       " 'N_FAT',\n",
       " 'N_CHO',\n",
       " 'L_LN_FAM',\n",
       " 'DW_WBT_BMD']"
      ]
     },
     "execution_count": 159,
     "metadata": {},
     "output_type": "execute_result"
    }
   ],
   "source": [
    "# 데이터프레임에서 결측치 있는 특성 확인\n",
    "missing_columns= X.columns[X.isnull().any()]\n",
    "\n",
    "list(missing_columns)"
   ]
  },
  {
   "attachments": {},
   "cell_type": "markdown",
   "metadata": {},
   "source": [
    "1. 'L_LN_FAM' (가족과 저녁식사 횟수) 결측치 처리\n",
    "\n",
    "-> 비율에 맞춰서 결측치 처리"
   ]
  },
  {
   "cell_type": "code",
   "execution_count": 160,
   "metadata": {},
   "outputs": [
    {
     "name": "stdout",
     "output_type": "stream",
     "text": [
      "결측치 개수:  277\n",
      "2.0    748\n",
      "1.0    408\n",
      "Name: L_LN_FAM, dtype: int64\n"
     ]
    }
   ],
   "source": [
    "col = 'L_LN_FAM'\n",
    "#결측치 개수 출력 (isnull().sum())\n",
    "total_miss = X[col].isnull().sum()\n",
    "print(\"결측치 개수: \", total_miss)\n",
    "\n",
    "# 각 값의 개수 출력\n",
    "print(X[col].value_counts())"
   ]
  },
  {
   "cell_type": "code",
   "execution_count": 161,
   "metadata": {},
   "outputs": [],
   "source": [
    "# 값이 1, 2인 개수 (loc은 이름 or 조건, iloc은 인덱스)\n",
    "x1=len(X.loc[X['L_LN_FAM']==1])\n",
    "x2=len(X.loc[X['L_LN_FAM']==2])\n",
    "total =x1+x2\n",
    "\n",
    "r1=x1/total\n",
    "r2=x2/total\n",
    "r_list=[]\n",
    "\n",
    "#r_list에 결측치 값을 비율에 맞춰서 추가\n",
    "for i in range(round(r1*total_miss)):   #정수값을 넣기위해 round사용\n",
    "    r_list.append(1)\n",
    "\n",
    "for i in range(round(r2*total_miss)):   #정수값을 넣기위해 round사용\n",
    "    r_list.append(2)"
   ]
  },
  {
   "cell_type": "code",
   "execution_count": 162,
   "metadata": {},
   "outputs": [],
   "source": [
    "import random\n",
    "random.shuffle(r_list)\n",
    "\n",
    "#x데이터프레임의 'L_LN_FAM'의 결측치있는 행번호로 리스트 생성\n",
    "na_index= X[X['L_LN_FAM'].isnull()].index.to_list()\n",
    "\n",
    "#list에 무작위로 저장되어있는 값을 결측치가 있는 행에 하나씩 채워넣음\n",
    "for i in range(total_miss):\n",
    "    X.loc[na_index[i], 'L_LN_FAM'] = r_list[i]  #loc에서 앞은 행, 뒤는 열\n"
   ]
  },
  {
   "cell_type": "code",
   "execution_count": 163,
   "metadata": {},
   "outputs": [
    {
     "name": "stdout",
     "output_type": "stream",
     "text": [
      "결측치 개수:  0\n"
     ]
    }
   ],
   "source": [
    "col = 'L_LN_FAM'\n",
    "total_miss = X[col].isnull().sum()\n",
    "print(\"결측치 개수: \", total_miss)"
   ]
  },
  {
   "attachments": {},
   "cell_type": "markdown",
   "metadata": {},
   "source": [
    "'L_LN_FAM' 결측치 처리 완료"
   ]
  },
  {
   "attachments": {},
   "cell_type": "markdown",
   "metadata": {},
   "source": []
  },
  {
   "attachments": {},
   "cell_type": "markdown",
   "metadata": {},
   "source": [
    "2. 'N_DIET' (식이요법 여부)"
   ]
  },
  {
   "cell_type": "code",
   "execution_count": 164,
   "metadata": {},
   "outputs": [
    {
     "name": "stdout",
     "output_type": "stream",
     "text": [
      "결측치 개수:  279\n",
      "2.0    949\n",
      "1.0    205\n",
      "Name: N_DIET, dtype: int64\n"
     ]
    }
   ],
   "source": [
    "col = 'N_DIET'\n",
    "#결측치 개수 출력 (isnull().sum())\n",
    "total_miss = X[col].isnull().sum()\n",
    "print(\"결측치 개수: \", total_miss)\n",
    "\n",
    "# 각 값의 개수 출력\n",
    "print(X[col].value_counts())"
   ]
  },
  {
   "cell_type": "code",
   "execution_count": 165,
   "metadata": {},
   "outputs": [],
   "source": [
    "# 값이 1, 2인 개수 (loc은 이름 or 조건, iloc은 인덱스)\n",
    "x1=len(X.loc[X['N_DIET']==1])\n",
    "x2=len(X.loc[X['N_DIET']==2])\n",
    "total =x1+x2\n",
    "\n",
    "r1=x1/total\n",
    "r2=x2/total\n",
    "r_list=[]\n",
    "\n",
    "#r_list에 결측치 값을 비율에 맞춰서 추가\n",
    "for i in range(round(r1*total_miss)):   #정수값을 넣기위해 round사용\n",
    "    r_list.append(1)\n",
    "\n",
    "for i in range(round(r2*total_miss)):   #정수값을 넣기위해 round사용\n",
    "    r_list.append(2)"
   ]
  },
  {
   "cell_type": "code",
   "execution_count": 166,
   "metadata": {},
   "outputs": [],
   "source": [
    "import random\n",
    "random.shuffle(r_list)\n",
    "\n",
    "#x데이터프레임의 'L_LN_FAM'의 결측치있는 행번호로 리스트 생성\n",
    "na_index= X[X['N_DIET'].isnull()].index.to_list()\n",
    "\n",
    "#list에 무작위로 저장되어있는 값을 결측치가 있는 행에 하나씩 채워넣음\n",
    "for i in range(total_miss):\n",
    "    X.loc[na_index[i], 'N_DIET'] = r_list[i]  #loc에서 앞은 행, 뒤는 열\n"
   ]
  },
  {
   "cell_type": "code",
   "execution_count": 167,
   "metadata": {},
   "outputs": [
    {
     "name": "stdout",
     "output_type": "stream",
     "text": [
      "결측치 개수:  0\n"
     ]
    }
   ],
   "source": [
    "col = 'N_DIET'\n",
    "total_miss = X[col].isnull().sum()\n",
    "print(\"결측치 개수: \", total_miss)"
   ]
  },
  {
   "attachments": {},
   "cell_type": "markdown",
   "metadata": {},
   "source": [
    "N_DIET 결측치 처리 완료"
   ]
  },
  {
   "attachments": {},
   "cell_type": "markdown",
   "metadata": {},
   "source": [
    "카테고리형 결측치 처리 완료\n",
    "\n",
    "---------------------------------"
   ]
  },
  {
   "attachments": {},
   "cell_type": "markdown",
   "metadata": {},
   "source": [
    "연속형 결측치 처리"
   ]
  },
  {
   "cell_type": "code",
   "execution_count": 168,
   "metadata": {},
   "outputs": [
    {
     "data": {
      "text/plain": [
       "Index(['N_INTK', 'N_EN', 'N_WATER', 'N_PROT', 'N_FAT', 'N_CHO', 'DW_WBT_BMD'], dtype='object')"
      ]
     },
     "execution_count": 168,
     "metadata": {},
     "output_type": "execute_result"
    }
   ],
   "source": [
    "# X 데이터프레임에서 결측치가 있는 특성 확인\n",
    "missing_columns = X.columns[X.isnull().any()]\n",
    "\n",
    "missing_columns"
   ]
  },
  {
   "cell_type": "code",
   "execution_count": 169,
   "metadata": {},
   "outputs": [
    {
     "name": "stdout",
     "output_type": "stream",
     "text": [
      "상관계수 0.5이상: N_INTK: ['N_EN', 'N_WATER', 'N_PROT', 'N_FAT', 'N_CHO']\n",
      "상관계수 0.5이상: N_EN: ['N_INTK', 'N_WATER', 'N_PROT', 'N_FAT', 'N_CHO']\n",
      "상관계수 0.5이상: N_WATER: ['N_INTK', 'N_EN', 'N_PROT']\n"
     ]
    },
    {
     "name": "stdout",
     "output_type": "stream",
     "text": [
      "상관계수 0.5이상: N_PROT: ['N_INTK', 'N_EN', 'N_WATER', 'N_FAT']\n",
      "상관계수 0.5이상: N_FAT: ['N_INTK', 'N_EN', 'N_PROT']\n",
      "상관계수 0.5이상: N_CHO: ['N_INTK', 'N_EN']\n",
      "상관계수 0.5이상: DW_WBT_BMD: []\n"
     ]
    }
   ],
   "source": [
    "cor_list=[]\n",
    "for i in list(missing_columns):\n",
    "    impute_feature = i # 선형 대치할 대상 특성\n",
    "\n",
    "    # 대상 특성과 각 특성들과의 상관계수(절대값) 계산 -> series로 저장\n",
    "    correlations = X.corr()[impute_feature].abs()\n",
    "    #대상 특성은 제외\n",
    "    correlations.drop(impute_feature, inplace=True)\n",
    "    #상관계수가 0.5이상인 인덱스만 list로 저장\n",
    "    selected_features = correlations[correlations >= 0.5].index.tolist()\n",
    "    print(f\"상관계수 0.5이상: {impute_feature}: {selected_features}\")\n",
    "    cor_list.append(selected_features)\n"
   ]
  },
  {
   "cell_type": "code",
   "execution_count": 170,
   "metadata": {},
   "outputs": [],
   "source": [
    "# from sklearn.linear_model import LinearRegression\n",
    "\n",
    "# for i, selected_features in zip(missing_columns, cor_list):\n",
    "#     # 대치할 행 선택\n",
    "#     missing_rows = X[i].isnull()\n",
    "\n",
    "#     # 대치할 목표 특성과 상관계수가 높게 측정된 특성 선택\n",
    "#     impute_target = X[i]\n",
    "#     impute_features = X[selected_features]\n",
    "\n",
    "#     # 결측치 대치를 위한 선형 회귀 모델 훈련\n",
    "#     model = LinearRegression()\n",
    "#     model.fit(impute_features[~missing_rows], impute_target[~missing_rows])\n",
    "\n",
    "#     # 결측치 대치\n",
    "#     imputed_values = model.predict(impute_features[missing_rows])\n",
    "#     X.loc[missing_rows, i] = imputed_values\n"
   ]
  },
  {
   "attachments": {},
   "cell_type": "markdown",
   "metadata": {},
   "source": [
    "선형관계가 유의미한 컬럼은 모두 연속형이므로 선형대치 불가\n",
    "\n",
    "대안으로 knn대치 선택"
   ]
  },
  {
   "cell_type": "code",
   "execution_count": 171,
   "metadata": {},
   "outputs": [],
   "source": [
    "from sklearn.impute import KNNImputer\n",
    "\n",
    "# 결측치가 있는 특성 선택\n",
    "impute_features = ['N_INTK', 'N_EN', 'N_WATER', 'N_PROT', 'N_FAT', 'N_CHO',\n",
    "       'DW_WBT_BMD']\n",
    "# KNNImputer 객체 생성\n",
    "imputer = KNNImputer(n_neighbors=5)  # 임의로 이웃은 5명으로 설정\n",
    "\n",
    "# KNN 대치 수행\n",
    "X_imputed = imputer.fit_transform(X[impute_features])\n",
    "\n",
    "# 대치된 값으로 열을 갱신\n",
    "X[impute_features] = X_imputed"
   ]
  },
  {
   "cell_type": "code",
   "execution_count": 172,
   "metadata": {},
   "outputs": [
    {
     "data": {
      "text/plain": [
       "Index([], dtype='object')"
      ]
     },
     "execution_count": 172,
     "metadata": {},
     "output_type": "execute_result"
    }
   ],
   "source": [
    "X.columns[X.isnull().any()]"
   ]
  },
  {
   "attachments": {},
   "cell_type": "markdown",
   "metadata": {},
   "source": [
    "결측치 처리 완료"
   ]
  },
  {
   "attachments": {},
   "cell_type": "markdown",
   "metadata": {},
   "source": []
  }
 ],
 "metadata": {
  "kernelspec": {
   "display_name": "base",
   "language": "python",
   "name": "python3"
  },
  "language_info": {
   "codemirror_mode": {
    "name": "ipython",
    "version": 3
   },
   "file_extension": ".py",
   "mimetype": "text/x-python",
   "name": "python",
   "nbconvert_exporter": "python",
   "pygments_lexer": "ipython3",
   "version": "3.9.13"
  },
  "orig_nbformat": 4
 },
 "nbformat": 4,
 "nbformat_minor": 2
}
