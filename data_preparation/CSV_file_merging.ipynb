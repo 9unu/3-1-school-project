{
 "cells": [
  {
   "attachments": {},
   "cell_type": "markdown",
   "metadata": {},
   "source": [
    "2개년의 데이터프레임을 같은 특성으로 일치시킴"
   ]
  },
  {
   "cell_type": "code",
   "execution_count": 35,
   "metadata": {},
   "outputs": [
    {
     "name": "stderr",
     "output_type": "stream",
     "text": [
      "C:\\Users\\USER\\AppData\\Local\\Temp\\ipykernel_2252\\3078267152.py:9: DtypeWarning: Columns (85,114,187,240,375,381,502,645,671,702,706,767,814,826,1197) have mixed types. Specify dtype option on import or set low_memory=False.\n",
      "  Y=pd.read_csv(csv_file2)\n"
     ]
    }
   ],
   "source": [
    "import pandas as pd\n",
    "\n",
    "#2008년 csv파일 (X)\n",
    "csv_file1=r\"C:\\Users\\USER\\Desktop\\데이터\\2008년 남자 데이터\\결측치 처리된 남자 CSV파일(K=5),fat 0,1,2.csv\"\n",
    "X=pd.read_csv(csv_file1)\n",
    "\n",
    "#2009년 csv파일 (Y)\n",
    "csv_file2=r\"C:\\Users\\USER\\Desktop\\데이터\\2009 전체데이터(원본).csv\"\n",
    "Y=pd.read_csv(csv_file2)\n"
   ]
  },
  {
   "cell_type": "code",
   "execution_count": 36,
   "metadata": {},
   "outputs": [
    {
     "name": "stdout",
     "output_type": "stream",
     "text": [
      "공통 특성 개수:  127\n",
      "['pa_walk', 'N_INTK', 'BE5_1', 'EC_env_4', 'N_DIET', 'BO3_03', 'DC2_dg', 'EC_wht_3', 'LK_GD_P7', 'EC_pjob_1', 'EC_env_3', 'L_OUT_FQ', 'LK_GD_P1', 'DK7_dg', 'LK_GD_P3', 'DC5_dg', 'DE1_32', 'EC_env_7', 'ho_incm5', 'sex', 'N_FAT', 'DE2_dg', 'DN1_dg', 'EC_occp', 'N_CHO', 'N_PROT', 'LQ_5EQL', 'marri_1', 'house', 'BD2_1', 'DI1_dg', 'DN2_dg', 'DI8_dg', 'BP8', 'N_WATER', 'LK_EDU', 'incm5', 'DJ8_dg', 'BS5_22', 'LK_GD_P6', 'LK_LAB', 'HE_ht', 'N_EN', 'LF_SAFE', 'BO2_1', 'DJ6_dg', 'DM1_dg', 'LS_VIT', 'BD1_11', 'L_LN_FAM', 'L_SNA_FQ', 'DM6_dg', 'DI2_dg', 'DI3_dg', 'DK2_dg', 'EC_env_5', 'LK_LB_IT', 'DL2_dg', 'occp', 'L_BR_FAM', 'DM4_dg', 'BO3_07', 'BS9_2', 'LQ_1EQL', 'BO3_01', 'DI4_dg', 'DC6_dg', 'LQ_3EQL', 'BS5_21', 'HE_wt', 'pa_mid', 'LK_GD_P5', 'BS8_2', 'age', 'BO1_3', 'L_DN_FAM', 'LK_GD_P2', 'edu', 'DJ4_3', 'DK9_dg', 'HE_wc', 'BH1', 'DW_WBT_BMD', 'BO3_02', 'DK4_dg', 'sm_presnt', 'DC3_dg', 'EC_ind', 'LQ4_00', 'BO3_05', 'LQ_4EQL', 'DE1_dg', 'DI2_2', 'LS_FUN', 'DJ4_dg', 'fat', 'LK_GD', 'EC_wht_4', 'BO3_04', 'DW_WBT_pFT', 'DL1_dg', 'LK_GD_P4', 'LQ_2EQL', 'DC1_dg', 'BO3_09', 'DF2_dg', 'EC_env_8', 'genertn', 'EC1_1', 'DK8_dg', 'BMI', 'BP1', 'BO1_1', 'BO3_12', 'DI1_2', 'DC4_dg', 'D_1_1', 'EC_pjob_4', 'DH4_dg', 'EC_wht_5', 'EC_env_6', 'EC_wht_2', 'EC_wht_1', 'allownc', 'BS3_1', 'DJ5_dg', 'EC_lgw_2']\n"
     ]
    }
   ],
   "source": [
    "# X데이터프레임과 Y데이터프레임에서 공통된 특성\n",
    "common_features=set(X.columns).intersection(set(Y.columns))\n",
    "\n",
    "#공통된 특성 개수\n",
    "num = len(common_features)\n",
    "print(\"공통 특성 개수: \",num)\n",
    "\n",
    "list=[]\n",
    "#공통된 특성 출력\n",
    "for feature in common_features:\n",
    "    list.append(feature)\n",
    "\n",
    "print(list)"
   ]
  },
  {
   "cell_type": "code",
   "execution_count": 37,
   "metadata": {},
   "outputs": [
    {
     "name": "stderr",
     "output_type": "stream",
     "text": [
      "C:\\Users\\USER\\AppData\\Local\\Temp\\ipykernel_2252\\980122423.py:2: FutureWarning: Passing a set as an indexer is deprecated and will raise in a future version. Use a list instead.\n",
      "  X=X[common_features]\n",
      "C:\\Users\\USER\\AppData\\Local\\Temp\\ipykernel_2252\\980122423.py:3: FutureWarning: Passing a set as an indexer is deprecated and will raise in a future version. Use a list instead.\n",
      "  Y=Y[common_features]\n"
     ]
    }
   ],
   "source": [
    "#공통된 특성만 남기기\n",
    "X=X[common_features]\n",
    "Y=Y[common_features]"
   ]
  },
  {
   "cell_type": "code",
   "execution_count": 38,
   "metadata": {},
   "outputs": [],
   "source": [
    "#특성순서 일치\n",
    "Y=Y[X.columns]"
   ]
  },
  {
   "attachments": {},
   "cell_type": "markdown",
   "metadata": {},
   "source": [
    "특성 일치시킨 두 데이터프레임 병합"
   ]
  },
  {
   "cell_type": "code",
   "execution_count": 39,
   "metadata": {},
   "outputs": [
    {
     "name": "stdout",
     "output_type": "stream",
     "text": [
      "       pa_walk       N_INTK  BE5_1  EC_env_4  N_DIET  BO3_03  DC2_dg  \\\n",
      "0          1.0  1689.688022    1.0       3.0     2.0     8.0     0.0   \n",
      "1          1.0  1755.098333    1.0       4.0     2.0     0.0     0.0   \n",
      "2          1.0  1438.487815    4.0       5.0     2.0     8.0     0.0   \n",
      "3          1.0   853.639364    1.0       2.0     2.0     1.0     0.0   \n",
      "4          0.0  1203.811027    3.0       3.0     2.0     0.0     0.0   \n",
      "...        ...          ...    ...       ...     ...     ...     ...   \n",
      "10528      0.0   851.132778    4.0       8.0     2.0     0.0     8.0   \n",
      "10529      NaN   656.556427    8.0       8.0     2.0     8.0     8.0   \n",
      "10530      NaN   634.056427    8.0       8.0     2.0     8.0     8.0   \n",
      "10531      1.0   579.727606    1.0       3.0     2.0     8.0     8.0   \n",
      "10532      1.0  1033.424257    1.0       3.0     2.0     8.0     8.0   \n",
      "\n",
      "       EC_wht_3  LK_GD_P7  EC_pjob_1  ...  EC_pjob_4  DH4_dg  EC_wht_5  \\\n",
      "0         888.0       1.0        2.0  ...        3.0     0.0       8.0   \n",
      "1         888.0       1.0        1.0  ...        2.0     0.0       8.0   \n",
      "2          16.0       9.0        1.0  ...        1.0     0.0       9.0   \n",
      "3         888.0       1.0        3.0  ...        3.0     0.0       8.0   \n",
      "4         888.0       1.0        1.0  ...        1.0     0.0       8.0   \n",
      "...         ...       ...        ...  ...        ...     ...       ...   \n",
      "10528     888.0       1.0        1.0  ...        2.0     8.0       8.0   \n",
      "10529     888.0       NaN        8.0  ...        8.0     1.0       8.0   \n",
      "10530     888.0       NaN        8.0  ...        8.0     0.0       8.0   \n",
      "10531     888.0       1.0        1.0  ...        1.0     8.0       8.0   \n",
      "10532     888.0       1.0        1.0  ...        1.0     8.0       8.0   \n",
      "\n",
      "       EC_env_6  EC_wht_2  EC_wht_1  allownc  BS3_1  DJ5_dg  EC_lgw_2  \n",
      "0           3.0     888.0       9.0       10    1.0     0.0       8.0  \n",
      "1           4.0      60.0       1.0       20    8.0     0.0       2.0  \n",
      "2           1.0     888.0       2.0       20    8.0     0.0       2.0  \n",
      "3           4.0      65.0       1.0       20    1.0     0.0       9.0  \n",
      "4           3.0     888.0       9.0       20    8.0     0.0       3.0  \n",
      "...         ...       ...       ...      ...    ...     ...       ...  \n",
      "10528       8.0     888.0       8.0       20    2.0     8.0       2.0  \n",
      "10529       8.0     888.0       8.0       20    8.0     8.0      88.0  \n",
      "10530       8.0     888.0       8.0       20    8.0     8.0      88.0  \n",
      "10531       2.0      50.0       1.0       20    1.0     8.0       6.0  \n",
      "10532       3.0      48.0       1.0       20    8.0     8.0       6.0  \n",
      "\n",
      "[11966 rows x 127 columns]\n"
     ]
    }
   ],
   "source": [
    "marged_data = pd.concat([X, Y], axis=0)\n",
    "\n",
    "print(marged_data)"
   ]
  },
  {
   "cell_type": "code",
   "execution_count": null,
   "metadata": {},
   "outputs": [],
   "source": [
    "#marged_data.to_csv(\"2008+2009 데이터\", index=False)"
   ]
  },
  {
   "attachments": {},
   "cell_type": "markdown",
   "metadata": {},
   "source": [
    "절대 경로 지정하는 법\n",
    "save_directory = \"C:\\\\Data\"\n",
    "file_path = os.path.join(save_directory, \"2008+2009 데이터.csv\")\n",
    "merged_data.to_csv(file_path, index=False)\n"
   ]
  }
 ],
 "metadata": {
  "kernelspec": {
   "display_name": "base",
   "language": "python",
   "name": "python3"
  },
  "language_info": {
   "codemirror_mode": {
    "name": "ipython",
    "version": 3
   },
   "file_extension": ".py",
   "mimetype": "text/x-python",
   "name": "python",
   "nbconvert_exporter": "python",
   "pygments_lexer": "ipython3",
   "version": "3.9.13"
  },
  "orig_nbformat": 4
 },
 "nbformat": 4,
 "nbformat_minor": 2
}
