{
 "cells": [
  {
   "cell_type": "code",
   "execution_count": 2,
   "metadata": {},
   "outputs": [],
   "source": [
    "import pandas as pd\n",
    "import os\n",
    "\n",
    "#sas파일 경로 설정\n",
    "sas_file = r\"C:\\Users\\USER\\Desktop\\데이터\\hn08_all.sas7bdat\"\n",
    "\n",
    "#sas파일을 데이터프레임으로 불러옴\n",
    "data = pd.read_sas(sas_file)\n",
    "\n",
    "#csv파일 저장할 경로 (플랫폼 간 이식성, 가독성을 위해 설정)\n",
    "save_direct=r\"C:\\Users\\USER\\Desktop\\데이터\"\n",
    "\n",
    "#csv파일로 지정한 경로로 저장\n",
    "csv_file= os.path.join(save_direct, \"2008 전체 데이터.csv\")\n",
    "#data.to_csv(csv_file, index=False)\n",
    "\n"
   ]
  }
 ],
 "metadata": {
  "kernelspec": {
   "display_name": "base",
   "language": "python",
   "name": "python3"
  },
  "language_info": {
   "codemirror_mode": {
    "name": "ipython",
    "version": 3
   },
   "file_extension": ".py",
   "mimetype": "text/x-python",
   "name": "python",
   "nbconvert_exporter": "python",
   "pygments_lexer": "ipython3",
   "version": "3.9.13"
  },
  "orig_nbformat": 4
 },
 "nbformat": 4,
 "nbformat_minor": 2
}
